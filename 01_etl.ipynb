{
  "cells": [
    {
      "cell_type": "markdown",
      "metadata": {
        "id": "view-in-github",
        "colab_type": "text"
      },
      "source": [
        "<a href=\"https://colab.research.google.com/github/gabrielteixeira021/data-scientist-test-jan-2024-4UBD/blob/main/01_etl.ipynb\" target=\"_parent\"><img src=\"https://colab.research.google.com/assets/colab-badge.svg\" alt=\"Open In Colab\"/></a>"
      ]
    },
    {
      "cell_type": "code",
      "execution_count": null,
      "metadata": {
        "id": "u19HPpTLLy3J"
      },
      "outputs": [],
      "source": [
        "\"\"\"\n",
        "    Instruções:\n",
        "        1- Download dos dados municipais do estado de Minas Gerais;\n",
        "        2- Transformação dos dados de desmatamento;\n",
        "        3- Processamento dos dados:\n",
        "            -reprojeção para EPSG:31983;\n",
        "            -cálculo de área;\n",
        "        4- Geração dos arquivos de saída no formato GeoJSON;\n",
        "\"\"\""
      ]
    },
    {
      "cell_type": "code",
      "source": [
        "# Importar bibliotecas\n",
        "import os\n",
        "import geopandas as gpd\n",
        "import numpy as np"
      ],
      "metadata": {
        "id": "kGBoO-4pNVOV"
      },
      "execution_count": 5,
      "outputs": []
    },
    {
      "cell_type": "code",
      "source": [
        "# Converter para EPSG:31983\n",
        "gdf = gpd.read_file(\"dados/municipios-mg.geojson\").to_crs(epsg=31983)\n",
        "\n",
        "# Verificar se a conversão foi realizada corretamente\n",
        "print(f\"Sistema original: {gpd.read_file('dados/municipios-mg.geojson').crs}\")\n",
        "print(f\"Novo sistema: {gdf.crs}\")\n",
        "\n",
        "# A área está em metros quadrados (devido ao EPSG:31983), então convertemos para km²\n",
        "gdf[\"area_km2\"] = np.round(gdf.geometry.area / 10**6, 2)\n",
        "\n",
        "# Salva o GeoDataFrame com as novas coordenadas e área calculada\n",
        "gdf.to_file(\"dados/municipios-mg.geojson\", driver=\"GeoJSON\")"
      ],
      "metadata": {
        "colab": {
          "base_uri": "https://localhost:8080/",
          "height": 228
        },
        "id": "E5DkPr-0R_k3",
        "outputId": "d5718529-c7b7-4ba5-de56-cc158484679a"
      },
      "execution_count": 19,
      "outputs": [
        {
          "output_type": "stream",
          "name": "stdout",
          "text": [
            "Sistema original: EPSG:31983\n",
            "Novo sistema: EPSG:31983\n",
            "Exibindo as 10 primeiras linhas com as áreas em km^2\n"
          ]
        },
        {
          "output_type": "error",
          "ename": "AttributeError",
          "evalue": "'list' object has no attribute 'head'",
          "traceback": [
            "\u001b[0;31m---------------------------------------------------------------------------\u001b[0m",
            "\u001b[0;31mAttributeError\u001b[0m                            Traceback (most recent call last)",
            "\u001b[0;32m/tmp/ipython-input-2769817413.py\u001b[0m in \u001b[0;36m<cell line: 0>\u001b[0;34m()\u001b[0m\n\u001b[1;32m     14\u001b[0m \u001b[0;31m# Mostrar as primeiras linhas com as áreas calculaddas\u001b[0m\u001b[0;34m\u001b[0m\u001b[0;34m\u001b[0m\u001b[0m\n\u001b[1;32m     15\u001b[0m \u001b[0mprint\u001b[0m\u001b[0;34m(\u001b[0m\u001b[0;34m\"Exibindo as 10 primeiras linhas com as áreas em km^2\"\u001b[0m\u001b[0;34m)\u001b[0m\u001b[0;34m\u001b[0m\u001b[0;34m\u001b[0m\u001b[0m\n\u001b[0;32m---> 16\u001b[0;31m \u001b[0mprint\u001b[0m\u001b[0;34m(\u001b[0m\u001b[0mgdf\u001b[0m\u001b[0;34m[\u001b[0m\u001b[0;34m[\u001b[0m\u001b[0;34m'name'\u001b[0m\u001b[0;34m,\u001b[0m \u001b[0;34m'area_km2'\u001b[0m\u001b[0;34m]\u001b[0m\u001b[0;34m.\u001b[0m\u001b[0mhead\u001b[0m\u001b[0;34m(\u001b[0m\u001b[0;36m10\u001b[0m\u001b[0;34m)\u001b[0m\u001b[0;34m]\u001b[0m\u001b[0;34m)\u001b[0m\u001b[0;34m\u001b[0m\u001b[0;34m\u001b[0m\u001b[0m\n\u001b[0m",
            "\u001b[0;31mAttributeError\u001b[0m: 'list' object has no attribute 'head'"
          ]
        }
      ]
    },
    {
      "cell_type": "markdown",
      "source": [
        "# Visualização dos dados"
      ],
      "metadata": {
        "id": "MEabIDsLcaTi"
      }
    },
    {
      "cell_type": "code",
      "source": [
        "# Mostrar as primeiras linhas com as áreas calculaddas\n",
        "print(\"Exibindo as 10 primeiras linhas com as áreas em km^2\")\n",
        "print(gdf[['name', 'area_km2']].head(10))"
      ],
      "metadata": {
        "id": "mTuUyb6ncdpw",
        "outputId": "44b07a29-81f8-4fea-831c-0de508556131",
        "colab": {
          "base_uri": "https://localhost:8080/"
        }
      },
      "execution_count": 20,
      "outputs": [
        {
          "output_type": "stream",
          "name": "stdout",
          "text": [
            "Exibindo as 10 primeiras linhas com as áreas em km^2\n",
            "                  name  area_km2\n",
            "0  Abadia dos Dourados    895.12\n",
            "1               Abaeté   1814.50\n",
            "2           Abre Campo    472.05\n",
            "3              Acaiaca    100.72\n",
            "4              Açucena    812.88\n",
            "5             Água Boa   1320.31\n",
            "6        Água Comprida    490.79\n",
            "7              Aguanil    235.18\n",
            "8       Águas Formosas    820.55\n",
            "9      Águas Vermelhas   1261.14\n"
          ]
        }
      ]
    }
  ],
  "metadata": {
    "language_info": {
      "name": "python"
    },
    "colab": {
      "provenance": [],
      "include_colab_link": true
    },
    "kernelspec": {
      "name": "python3",
      "display_name": "Python 3"
    }
  },
  "nbformat": 4,
  "nbformat_minor": 0
}