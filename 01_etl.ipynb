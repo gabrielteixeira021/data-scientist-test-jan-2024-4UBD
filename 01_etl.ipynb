{
  "cells": [
    {
      "cell_type": "markdown",
      "metadata": {
        "id": "view-in-github",
        "colab_type": "text"
      },
      "source": [
        "<a href=\"https://colab.research.google.com/github/gabrielteixeira021/data-scientist-test-jan-2024-4UBD/blob/main/01_etl.ipynb\" target=\"_parent\"><img src=\"https://colab.research.google.com/assets/colab-badge.svg\" alt=\"Open In Colab\"/></a>"
      ]
    },
    {
      "cell_type": "code",
      "execution_count": null,
      "metadata": {
        "id": "u19HPpTLLy3J"
      },
      "outputs": [],
      "source": [
        "\"\"\"\n",
        "    Instruções:\n",
        "        1- Download dos dados municipais do estado de Minas Gerais;\n",
        "        2- Transformação dos dados de desmatamento;\n",
        "        3- Processamento dos dados:\n",
        "            -reprojeção para EPSG:31983;\n",
        "            -cálculo de área;\n",
        "        4- Geração dos arquivos de saída no formato GeoJSON;\n",
        "\"\"\""
      ]
    },
    {
      "cell_type": "code",
      "source": [
        "# Importar bibliotecas\n",
        "import geopandas as gpd\n",
        "import numpy as np"
      ],
      "metadata": {
        "id": "kGBoO-4pNVOV"
      },
      "execution_count": 1,
      "outputs": []
    },
    {
      "cell_type": "code",
      "source": [
        "# Converter para EPSG:31983 e salvar em uma pasta\n",
        "gdf = gpd.read_file(\"geojs-31-mun.json\").to_crs(epsg=31983)\n",
        "\n"
      ],
      "metadata": {
        "id": "E5DkPr-0R_k3"
      },
      "execution_count": null,
      "outputs": []
    }
  ],
  "metadata": {
    "language_info": {
      "name": "python"
    },
    "colab": {
      "provenance": [],
      "include_colab_link": true
    },
    "kernelspec": {
      "name": "python3",
      "display_name": "Python 3"
    }
  },
  "nbformat": 4,
  "nbformat_minor": 0
}