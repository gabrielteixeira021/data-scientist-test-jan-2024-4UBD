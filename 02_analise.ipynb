{
  "cells": [
    {
      "cell_type": "code",
      "execution_count": null,
      "metadata": {
        "id": "Det6iGDfhbDW"
      },
      "outputs": [],
      "source": [
        "\"\"\"\n",
        "    Instruções:\n",
        "        1- Responda as perguntas listadas no README.md;\n",
        "        2- Faça as análises que julgar necessárias e deixe os resultados de suas análises plotadas no notebook.\n",
        "\"\"\""
      ]
    },
    {
      "cell_type": "code",
      "source": [
        "from google.colab import drive\n",
        "drive.mount('/content/drive')"
      ],
      "metadata": {
        "id": "7XrupLzASUF8",
        "outputId": "bedb75c4-3949-4ff7-9780-c596d5d5b0f4",
        "colab": {
          "base_uri": "https://localhost:8080/"
        }
      },
      "execution_count": 1,
      "outputs": [
        {
          "output_type": "stream",
          "name": "stdout",
          "text": [
            "Mounted at /content/drive\n"
          ]
        }
      ]
    },
    {
      "cell_type": "code",
      "source": [
        "# Importar bibliotecas\n",
        "import geopandas as gpd\n",
        "import pandas as pd\n",
        "import seaborn as sns\n",
        "import matplotlib.pyplot as plt"
      ],
      "metadata": {
        "id": "A4kbMYGViy3B"
      },
      "execution_count": 4,
      "outputs": []
    },
    {
      "cell_type": "code",
      "source": [
        "# Definir o caminho\n",
        "socio_path = '/content/drive/MyDrive/Python-Repo/data-scientist-test-jan-2024/dados/populacao-pib-municipios-mg.csv'\n",
        "\n",
        "# Carregar dados do PIB\n",
        "socio = pd.read_csv(socio_path)\n",
        "\n",
        "# Explorar a estrutura de dados\n",
        "print(\"Estrutura dos dados:\")\n",
        "print(\"=\" * 50)\n",
        "print(f\"shape: {socio.shape}\")\n",
        "print(f\"Colunas: {socio.columns}\")\n",
        "print(\"\\nExibindo primeiras linhas de dados\")\n",
        "print(socio.head())\n",
        "print(\"\\nExibindo informações sobre os dados\")\n",
        "print(socio.info())"
      ],
      "metadata": {
        "colab": {
          "base_uri": "https://localhost:8080/"
        },
        "id": "MYeLca-4ifw2",
        "outputId": "841aa3c0-da56-4e4d-fae3-63b6467f98d3"
      },
      "execution_count": 10,
      "outputs": [
        {
          "output_type": "stream",
          "name": "stdout",
          "text": [
            "Estrutura dos dados:\n",
            "==================================================\n",
            "shape: (66825, 43)\n",
            "Colunas: Index(['Ano', 'Código da Grande Região', 'Nome da Grande Região',\n",
            "       'Código da Unidade da Federação', 'Sigla da Unidade da Federação',\n",
            "       'Nome da Unidade da Federação', 'Código do Município',\n",
            "       'Nome do Município', 'Região Metropolitana', 'Código da Mesorregião',\n",
            "       'Nome da Mesorregião', 'Código da Microrregião', 'Nome da Microrregião',\n",
            "       'Código da Região Geográfica Imediata',\n",
            "       'Nome da Região Geográfica Imediata',\n",
            "       'Município da Região Geográfica Imediata',\n",
            "       'Código da Região Geográfica Intermediária',\n",
            "       'Nome da Região Geográfica Intermediária',\n",
            "       'Município da Região Geográfica Intermediária',\n",
            "       'Código Concentração Urbana', 'Nome Concentração Urbana',\n",
            "       'Tipo Concentração Urbana', 'Código Arranjo Populacional',\n",
            "       'Nome Arranjo Populacional', 'Hierarquia Urbana',\n",
            "       'Hierarquia Urbana (principais categorias)', 'Código da Região Rural',\n",
            "       'Nome da Região Rural',\n",
            "       'Região rural (segundo classificação do núcleo)', 'Amazônia Legal',\n",
            "       'Semiárido', 'Cidade-Região de São Paulo',\n",
            "       'Valor adicionado bruto da Agropecuária, \\na preços correntes\\n(R$ 1.000)',\n",
            "       'Valor adicionado bruto da Indústria,\\na preços correntes\\n(R$ 1.000)',\n",
            "       'Valor adicionado bruto dos Serviços,\\na preços correntes \\n- exceto Administração, defesa, educação e saúde públicas e seguridade social\\n(R$ 1.000)',\n",
            "       'Valor adicionado bruto da Administração, defesa, educação e saúde públicas e seguridade social, \\na preços correntes\\n(R$ 1.000)',\n",
            "       'Valor adicionado bruto total, \\na preços correntes\\n(R$ 1.000)',\n",
            "       'Impostos, líquidos de subsídios, sobre produtos, \\na preços correntes\\n(R$ 1.000)',\n",
            "       'Produto Interno Bruto, \\na preços correntes\\n(R$ 1.000)',\n",
            "       'Produto Interno Bruto per capita, \\na preços correntes\\n(R$ 1,00)',\n",
            "       'Atividade com maior valor adicionado bruto',\n",
            "       'Atividade com segundo maior valor adicionado bruto',\n",
            "       'Atividade com terceiro maior valor adicionado bruto'],\n",
            "      dtype='object')\n",
            "\n",
            "Exibindo primeiras linhas de dados\n",
            "    Ano  Código da Grande Região Nome da Grande Região  \\\n",
            "0  2010                        1                 Norte   \n",
            "1  2010                        1                 Norte   \n",
            "2  2010                        1                 Norte   \n",
            "3  2010                        1                 Norte   \n",
            "4  2010                        1                 Norte   \n",
            "\n",
            "   Código da Unidade da Federação Sigla da Unidade da Federação  \\\n",
            "0                              11                            RO   \n",
            "1                              11                            RO   \n",
            "2                              11                            RO   \n",
            "3                              11                            RO   \n",
            "4                              11                            RO   \n",
            "\n",
            "  Nome da Unidade da Federação  Código do Município      Nome do Município  \\\n",
            "0                     Rondônia              1100015  Alta Floresta D'Oeste   \n",
            "1                     Rondônia              1100023              Ariquemes   \n",
            "2                     Rondônia              1100031                 Cabixi   \n",
            "3                     Rondônia              1100049                 Cacoal   \n",
            "4                     Rondônia              1100056             Cerejeiras   \n",
            "\n",
            "  Região Metropolitana  Código da Mesorregião  ...  \\\n",
            "0                  NaN                   1102  ...   \n",
            "1                  NaN                   1102  ...   \n",
            "2                  NaN                   1102  ...   \n",
            "3                  NaN                   1102  ...   \n",
            "4                  NaN                   1102  ...   \n",
            "\n",
            "  Valor adicionado bruto da Indústria,\\na preços correntes\\n(R$ 1.000)  \\\n",
            "0                                            16,119                      \n",
            "1                                           287,139                      \n",
            "2                                             3,253                      \n",
            "3                                           182,052                      \n",
            "4                                            19,734                      \n",
            "\n",
            "   Valor adicionado bruto dos Serviços,\\na preços correntes \\n- exceto Administração, defesa, educação e saúde públicas e seguridade social\\n(R$ 1.000)  \\\n",
            "0                                            62,496                                                                                                       \n",
            "1                                           494,946                                                                                                       \n",
            "2                                            12,677                                                                                                       \n",
            "3                                           465,447                                                                                                       \n",
            "4                                            80,725                                                                                                       \n",
            "\n",
            "  Valor adicionado bruto da Administração, defesa, educação e saúde públicas e seguridade social, \\na preços correntes\\n(R$ 1.000)  \\\n",
            "0                                            93,245                                                                                  \n",
            "1                                           343,868                                                                                  \n",
            "2                                            25,170                                                                                  \n",
            "3                                           298,454                                                                                  \n",
            "4                                            63,018                                                                                  \n",
            "\n",
            "   Valor adicionado bruto total, \\na preços correntes\\n(R$ 1.000)  \\\n",
            "0                                           241,120                 \n",
            "1                                         1,199,664                 \n",
            "2                                            65,401                 \n",
            "3                                         1,041,212                 \n",
            "4                                           192,454                 \n",
            "\n",
            "  Impostos, líquidos de subsídios, sobre produtos, \\na preços correntes\\n(R$ 1.000)  \\\n",
            "0                                            20,957                                   \n",
            "1                                           165,030                                   \n",
            "2                                             4,210                                   \n",
            "3                                           145,282                                   \n",
            "4                                            29,567                                   \n",
            "\n",
            "  Produto Interno Bruto, \\na preços correntes\\n(R$ 1.000)  \\\n",
            "0                                           262,077         \n",
            "1                                         1,364,694         \n",
            "2                                            69,611         \n",
            "3                                         1,186,494         \n",
            "4                                           222,021         \n",
            "\n",
            "   Produto Interno Bruto per capita, \\na preços correntes\\n(R$ 1,00)  \\\n",
            "0                                         10,731.18                    \n",
            "1                                         15,103.86                    \n",
            "2                                         11,033.62                    \n",
            "3                                         15,095.15                    \n",
            "4                                         13,037.06                    \n",
            "\n",
            "          Atividade com maior valor adicionado bruto  \\\n",
            "0  Administração, defesa, educação e saúde públic...   \n",
            "1  Administração, defesa, educação e saúde públic...   \n",
            "2  Administração, defesa, educação e saúde públic...   \n",
            "3  Administração, defesa, educação e saúde públic...   \n",
            "4  Administração, defesa, educação e saúde públic...   \n",
            "\n",
            "  Atividade com segundo maior valor adicionado bruto  \\\n",
            "0               Pecuária, inclusive apoio à pecuária   \n",
            "1                                    Demais serviços   \n",
            "2               Pecuária, inclusive apoio à pecuária   \n",
            "3                                    Demais serviços   \n",
            "4                                    Demais serviços   \n",
            "\n",
            "   Atividade com terceiro maior valor adicionado bruto  \n",
            "0                                    Demais serviços    \n",
            "1  Comércio e reparação de veículos automotores e...    \n",
            "2                                    Demais serviços    \n",
            "3  Comércio e reparação de veículos automotores e...    \n",
            "4  Comércio e reparação de veículos automotores e...    \n",
            "\n",
            "[5 rows x 43 columns]\n",
            "\n",
            "Exibindo informações sobre os dados\n",
            "<class 'pandas.core.frame.DataFrame'>\n",
            "RangeIndex: 66825 entries, 0 to 66824\n",
            "Data columns (total 43 columns):\n",
            " #   Column                                                                                                                                             Non-Null Count  Dtype  \n",
            "---  ------                                                                                                                                             --------------  -----  \n",
            " 0   Ano                                                                                                                                                66825 non-null  int64  \n",
            " 1   Código da Grande Região                                                                                                                            66825 non-null  int64  \n",
            " 2   Nome da Grande Região                                                                                                                              66825 non-null  object \n",
            " 3   Código da Unidade da Federação                                                                                                                     66825 non-null  int64  \n",
            " 4   Sigla da Unidade da Federação                                                                                                                      66825 non-null  object \n",
            " 5   Nome da Unidade da Federação                                                                                                                       66825 non-null  object \n",
            " 6   Código do Município                                                                                                                                66825 non-null  int64  \n",
            " 7   Nome do Município                                                                                                                                  66825 non-null  object \n",
            " 8   Região Metropolitana                                                                                                                               17172 non-null  object \n",
            " 9   Código da Mesorregião                                                                                                                              66825 non-null  int64  \n",
            " 10  Nome da Mesorregião                                                                                                                                66825 non-null  object \n",
            " 11  Código da Microrregião                                                                                                                             66825 non-null  int64  \n",
            " 12  Nome da Microrregião                                                                                                                               66825 non-null  object \n",
            " 13  Código da Região Geográfica Imediata                                                                                                               66825 non-null  int64  \n",
            " 14  Nome da Região Geográfica Imediata                                                                                                                 66825 non-null  object \n",
            " 15  Município da Região Geográfica Imediata                                                                                                            66825 non-null  object \n",
            " 16  Código da Região Geográfica Intermediária                                                                                                          66825 non-null  int64  \n",
            " 17  Nome da Região Geográfica Intermediária                                                                                                            66825 non-null  object \n",
            " 18  Município da Região Geográfica Intermediária                                                                                                       66825 non-null  object \n",
            " 19  Código Concentração Urbana                                                                                                                         7911 non-null   float64\n",
            " 20  Nome Concentração Urbana                                                                                                                           7911 non-null   object \n",
            " 21  Tipo Concentração Urbana                                                                                                                           7911 non-null   object \n",
            " 22  Código Arranjo Populacional                                                                                                                        11463 non-null  float64\n",
            " 23  Nome Arranjo Populacional                                                                                                                          11463 non-null  object \n",
            " 24  Hierarquia Urbana                                                                                                                                  66825 non-null  object \n",
            " 25  Hierarquia Urbana (principais categorias)                                                                                                          66825 non-null  object \n",
            " 26  Código da Região Rural                                                                                                                             66825 non-null  int64  \n",
            " 27  Nome da Região Rural                                                                                                                               66825 non-null  object \n",
            " 28  Região rural (segundo classificação do núcleo)                                                                                                     66825 non-null  object \n",
            " 29  Amazônia Legal                                                                                                                                     66825 non-null  object \n",
            " 30  Semiárido                                                                                                                                          66825 non-null  object \n",
            " 31  Cidade-Região de São Paulo                                                                                                                         66825 non-null  object \n",
            " 32  Valor adicionado bruto da Agropecuária, \n",
            "a preços correntes\n",
            "(R$ 1.000)                                                                             66825 non-null  object \n",
            " 33  Valor adicionado bruto da Indústria,\n",
            "a preços correntes\n",
            "(R$ 1.000)                                                                                 66825 non-null  object \n",
            " 34  Valor adicionado bruto dos Serviços,\n",
            "a preços correntes \n",
            "- exceto Administração, defesa, educação e saúde públicas e seguridade social\n",
            "(R$ 1.000)  66825 non-null  object \n",
            " 35  Valor adicionado bruto da Administração, defesa, educação e saúde públicas e seguridade social, \n",
            "a preços correntes\n",
            "(R$ 1.000)                     66825 non-null  object \n",
            " 36  Valor adicionado bruto total, \n",
            "a preços correntes\n",
            "(R$ 1.000)                                                                                       66825 non-null  object \n",
            " 37  Impostos, líquidos de subsídios, sobre produtos, \n",
            "a preços correntes\n",
            "(R$ 1.000)                                                                    66825 non-null  object \n",
            " 38  Produto Interno Bruto, \n",
            "a preços correntes\n",
            "(R$ 1.000)                                                                                              66825 non-null  object \n",
            " 39  Produto Interno Bruto per capita, \n",
            "a preços correntes\n",
            "(R$ 1,00)                                                                                    66825 non-null  object \n",
            " 40  Atividade com maior valor adicionado bruto                                                                                                         66825 non-null  object \n",
            " 41  Atividade com segundo maior valor adicionado bruto                                                                                                 66825 non-null  object \n",
            " 42  Atividade com terceiro maior valor adicionado bruto                                                                                                66825 non-null  object \n",
            "dtypes: float64(2), int64(9), object(32)\n",
            "memory usage: 21.9+ MB\n",
            "None\n"
          ]
        }
      ]
    },
    {
      "cell_type": "code",
      "source": [
        "# Estatísticas descritivas\n",
        "print(\"\\nEstatísticas descritivas\")\n",
        "print(socio.describe())"
      ],
      "metadata": {
        "colab": {
          "base_uri": "https://localhost:8080/"
        },
        "id": "R7Qr-lgVlKGr",
        "outputId": "0917794e-a2c8-4849-83fc-1126eb5ba4bf"
      },
      "execution_count": 11,
      "outputs": [
        {
          "output_type": "stream",
          "name": "stdout",
          "text": [
            "\n",
            "Estatísticas descritivas\n",
            "                Ano  Código da Grande Região  Código da Unidade da Federação  \\\n",
            "count  66825.000000             66825.000000                    66825.000000   \n",
            "mean    2015.501010                 2.897688                       32.376386   \n",
            "std        3.451786                 1.088007                        9.832077   \n",
            "min     2010.000000                 1.000000                       11.000000   \n",
            "25%     2013.000000                 2.000000                       25.000000   \n",
            "50%     2016.000000                 3.000000                       31.000000   \n",
            "75%     2019.000000                 4.000000                       41.000000   \n",
            "max     2021.000000                 5.000000                       53.000000   \n",
            "\n",
            "       Código do Município  Código da Mesorregião  Código da Microrregião  \\\n",
            "count         6.682500e+04           66825.000000            66825.000000   \n",
            "mean          3.253457e+06            3241.903749            32394.020920   \n",
            "std           9.847322e+05             983.458949             9833.140021   \n",
            "min           1.100015e+06            1101.000000            11001.000000   \n",
            "25%           2.512101e+06            2503.000000            25015.000000   \n",
            "50%           3.146255e+06            3110.000000            31047.000000   \n",
            "75%           4.119152e+06            4106.000000            41024.000000   \n",
            "max           5.300108e+06            5301.000000            53001.000000   \n",
            "\n",
            "       Código da Região Geográfica Imediata  \\\n",
            "count                          66825.000000   \n",
            "mean                          323779.945589   \n",
            "std                            98322.797286   \n",
            "min                           110001.000000   \n",
            "25%                           250009.000000   \n",
            "50%                           310039.000000   \n",
            "75%                           410019.000000   \n",
            "max                           530001.000000   \n",
            "\n",
            "       Código da Região Geográfica Intermediária  Código Concentração Urbana  \\\n",
            "count                               66825.000000                7.911000e+03   \n",
            "mean                                 3241.717576                3.508785e+06   \n",
            "std                                   983.635722                7.906255e+05   \n",
            "min                                  1101.000000                1.100122e+06   \n",
            "25%                                  2503.000000                3.122306e+06   \n",
            "50%                                  3107.000000                3.523909e+06   \n",
            "75%                                  4104.000000                4.119905e+06   \n",
            "max                                  5301.000000                5.300108e+06   \n",
            "\n",
            "       Código Arranjo Populacional  Código da Região Rural  \n",
            "count                 1.146300e+04            66825.000000  \n",
            "mean                  3.536506e+06             3247.568979  \n",
            "std                   8.212999e+05              978.632417  \n",
            "min                   1.100106e+06             1101.000000  \n",
            "25%                   3.120904e+06             2503.000000  \n",
            "50%                   3.529005e+06             3105.000000  \n",
            "75%                   4.204608e+06             4103.000000  \n",
            "max                   5.300108e+06             5207.000000  \n"
          ]
        }
      ]
    },
    {
      "cell_type": "markdown",
      "source": [
        "# Correlação dos dados"
      ],
      "metadata": {
        "id": "MvewF7_l8tSj"
      }
    },
    {
      "cell_type": "code",
      "source": [
        "# definindo o caminho do dataset\n",
        "municipios_dataset_path = '/content/drive/MyDrive/Python-Repo/data-scientist-test-jan-2024/dados/municipios-mg.geojson'\n",
        "\n",
        "# Carregando o dataset\n",
        "municipios = gpd.read_file(municipios_dataset_path)\n",
        "\n",
        "print(municipios.crs)\n",
        "print(municipios.head())"
      ],
      "metadata": {
        "colab": {
          "base_uri": "https://localhost:8080/"
        },
        "id": "hfLTT-7t8wHv",
        "outputId": "ee1a49be-d392-45db-8666-6285d22d7683"
      },
      "execution_count": 12,
      "outputs": [
        {
          "output_type": "stream",
          "name": "stdout",
          "text": [
            "EPSG:31983\n",
            "        id                 name          description  area_km2  \\\n",
            "0  3100104  Abadia dos Dourados  Abadia dos Dourados    895.12   \n",
            "1  3100203               Abaeté               Abaeté   1814.50   \n",
            "2  3100302           Abre Campo           Abre Campo    472.05   \n",
            "3  3100401              Acaiaca              Acaiaca    100.72   \n",
            "4  3100500              Açucena              Açucena    812.88   \n",
            "\n",
            "                                            geometry  \n",
            "0  POLYGON ((241429.802 7990562.876, 242359.697 7...  \n",
            "1  POLYGON ((480831.209 7911603.048, 481764.623 7...  \n",
            "2  POLYGON ((775002.321 7771717.815, 776244.59 77...  \n",
            "3  POLYGON ((696872.185 7747792.052, 697305.64 77...  \n",
            "4  POLYGON ((775332.208 7905556.756, 775804.655 7...  \n"
          ]
        }
      ]
    },
    {
      "cell_type": "code",
      "source": [
        "\n",
        "municipios[\"nome_municipio\"] = (\n",
        "    municipios[\"name\"]\n",
        "    .str.upper()\n",
        "    .str.normalize(\"NFKD\")\n",
        "    .str.encode(\"ascii\", errors=\"ignore\")\n",
        "    .str.decode(\"utf-8\")\n",
        ")\n",
        "\n",
        "socio[\"nome_municipio\"] = (\n",
        "    socio[\"nome_municipio\"]\n",
        "    .str.upper()\n",
        "    .str.normalize(\"NFKD\")\n",
        "    .str.encode(\"ascii\", errors=\"ignore\")\n",
        "    .str.decode(\"utf-8\")\n",
        ")"
      ],
      "metadata": {
        "id": "A09rWsIBaQvQ",
        "outputId": "59f1b0f7-e562-45d6-ea5d-465902f3119a",
        "colab": {
          "base_uri": "https://localhost:8080/",
          "height": 547
        }
      },
      "execution_count": 16,
      "outputs": [
        {
          "output_type": "error",
          "ename": "KeyError",
          "evalue": "'nome_municipio'",
          "traceback": [
            "\u001b[0;31m---------------------------------------------------------------------------\u001b[0m",
            "\u001b[0;31mKeyError\u001b[0m                                  Traceback (most recent call last)",
            "\u001b[0;32m/usr/local/lib/python3.12/dist-packages/pandas/core/indexes/base.py\u001b[0m in \u001b[0;36mget_loc\u001b[0;34m(self, key)\u001b[0m\n\u001b[1;32m   3804\u001b[0m         \u001b[0;32mtry\u001b[0m\u001b[0;34m:\u001b[0m\u001b[0;34m\u001b[0m\u001b[0;34m\u001b[0m\u001b[0m\n\u001b[0;32m-> 3805\u001b[0;31m             \u001b[0;32mreturn\u001b[0m \u001b[0mself\u001b[0m\u001b[0;34m.\u001b[0m\u001b[0m_engine\u001b[0m\u001b[0;34m.\u001b[0m\u001b[0mget_loc\u001b[0m\u001b[0;34m(\u001b[0m\u001b[0mcasted_key\u001b[0m\u001b[0;34m)\u001b[0m\u001b[0;34m\u001b[0m\u001b[0;34m\u001b[0m\u001b[0m\n\u001b[0m\u001b[1;32m   3806\u001b[0m         \u001b[0;32mexcept\u001b[0m \u001b[0mKeyError\u001b[0m \u001b[0;32mas\u001b[0m \u001b[0merr\u001b[0m\u001b[0;34m:\u001b[0m\u001b[0;34m\u001b[0m\u001b[0;34m\u001b[0m\u001b[0m\n",
            "\u001b[0;32mindex.pyx\u001b[0m in \u001b[0;36mpandas._libs.index.IndexEngine.get_loc\u001b[0;34m()\u001b[0m\n",
            "\u001b[0;32mindex.pyx\u001b[0m in \u001b[0;36mpandas._libs.index.IndexEngine.get_loc\u001b[0;34m()\u001b[0m\n",
            "\u001b[0;32mpandas/_libs/hashtable_class_helper.pxi\u001b[0m in \u001b[0;36mpandas._libs.hashtable.PyObjectHashTable.get_item\u001b[0;34m()\u001b[0m\n",
            "\u001b[0;32mpandas/_libs/hashtable_class_helper.pxi\u001b[0m in \u001b[0;36mpandas._libs.hashtable.PyObjectHashTable.get_item\u001b[0;34m()\u001b[0m\n",
            "\u001b[0;31mKeyError\u001b[0m: 'nome_municipio'",
            "\nThe above exception was the direct cause of the following exception:\n",
            "\u001b[0;31mKeyError\u001b[0m                                  Traceback (most recent call last)",
            "\u001b[0;32m/tmp/ipython-input-3706165702.py\u001b[0m in \u001b[0;36m<cell line: 0>\u001b[0;34m()\u001b[0m\n\u001b[1;32m      8\u001b[0m \u001b[0;34m\u001b[0m\u001b[0m\n\u001b[1;32m      9\u001b[0m socio[\"nome_municipio\"] = (\n\u001b[0;32m---> 10\u001b[0;31m     \u001b[0msocio\u001b[0m\u001b[0;34m[\u001b[0m\u001b[0;34m\"nome_municipio\"\u001b[0m\u001b[0;34m]\u001b[0m\u001b[0;34m\u001b[0m\u001b[0;34m\u001b[0m\u001b[0m\n\u001b[0m\u001b[1;32m     11\u001b[0m     \u001b[0;34m.\u001b[0m\u001b[0mstr\u001b[0m\u001b[0;34m.\u001b[0m\u001b[0mupper\u001b[0m\u001b[0;34m(\u001b[0m\u001b[0;34m)\u001b[0m\u001b[0;34m\u001b[0m\u001b[0;34m\u001b[0m\u001b[0m\n\u001b[1;32m     12\u001b[0m     \u001b[0;34m.\u001b[0m\u001b[0mstr\u001b[0m\u001b[0;34m.\u001b[0m\u001b[0mnormalize\u001b[0m\u001b[0;34m(\u001b[0m\u001b[0;34m\"NFKD\"\u001b[0m\u001b[0;34m)\u001b[0m\u001b[0;34m\u001b[0m\u001b[0;34m\u001b[0m\u001b[0m\n",
            "\u001b[0;32m/usr/local/lib/python3.12/dist-packages/pandas/core/frame.py\u001b[0m in \u001b[0;36m__getitem__\u001b[0;34m(self, key)\u001b[0m\n\u001b[1;32m   4100\u001b[0m             \u001b[0;32mif\u001b[0m \u001b[0mself\u001b[0m\u001b[0;34m.\u001b[0m\u001b[0mcolumns\u001b[0m\u001b[0;34m.\u001b[0m\u001b[0mnlevels\u001b[0m \u001b[0;34m>\u001b[0m \u001b[0;36m1\u001b[0m\u001b[0;34m:\u001b[0m\u001b[0;34m\u001b[0m\u001b[0;34m\u001b[0m\u001b[0m\n\u001b[1;32m   4101\u001b[0m                 \u001b[0;32mreturn\u001b[0m \u001b[0mself\u001b[0m\u001b[0;34m.\u001b[0m\u001b[0m_getitem_multilevel\u001b[0m\u001b[0;34m(\u001b[0m\u001b[0mkey\u001b[0m\u001b[0;34m)\u001b[0m\u001b[0;34m\u001b[0m\u001b[0;34m\u001b[0m\u001b[0m\n\u001b[0;32m-> 4102\u001b[0;31m             \u001b[0mindexer\u001b[0m \u001b[0;34m=\u001b[0m \u001b[0mself\u001b[0m\u001b[0;34m.\u001b[0m\u001b[0mcolumns\u001b[0m\u001b[0;34m.\u001b[0m\u001b[0mget_loc\u001b[0m\u001b[0;34m(\u001b[0m\u001b[0mkey\u001b[0m\u001b[0;34m)\u001b[0m\u001b[0;34m\u001b[0m\u001b[0;34m\u001b[0m\u001b[0m\n\u001b[0m\u001b[1;32m   4103\u001b[0m             \u001b[0;32mif\u001b[0m \u001b[0mis_integer\u001b[0m\u001b[0;34m(\u001b[0m\u001b[0mindexer\u001b[0m\u001b[0;34m)\u001b[0m\u001b[0;34m:\u001b[0m\u001b[0;34m\u001b[0m\u001b[0;34m\u001b[0m\u001b[0m\n\u001b[1;32m   4104\u001b[0m                 \u001b[0mindexer\u001b[0m \u001b[0;34m=\u001b[0m \u001b[0;34m[\u001b[0m\u001b[0mindexer\u001b[0m\u001b[0;34m]\u001b[0m\u001b[0;34m\u001b[0m\u001b[0;34m\u001b[0m\u001b[0m\n",
            "\u001b[0;32m/usr/local/lib/python3.12/dist-packages/pandas/core/indexes/base.py\u001b[0m in \u001b[0;36mget_loc\u001b[0;34m(self, key)\u001b[0m\n\u001b[1;32m   3810\u001b[0m             ):\n\u001b[1;32m   3811\u001b[0m                 \u001b[0;32mraise\u001b[0m \u001b[0mInvalidIndexError\u001b[0m\u001b[0;34m(\u001b[0m\u001b[0mkey\u001b[0m\u001b[0;34m)\u001b[0m\u001b[0;34m\u001b[0m\u001b[0;34m\u001b[0m\u001b[0m\n\u001b[0;32m-> 3812\u001b[0;31m             \u001b[0;32mraise\u001b[0m \u001b[0mKeyError\u001b[0m\u001b[0;34m(\u001b[0m\u001b[0mkey\u001b[0m\u001b[0;34m)\u001b[0m \u001b[0;32mfrom\u001b[0m \u001b[0merr\u001b[0m\u001b[0;34m\u001b[0m\u001b[0;34m\u001b[0m\u001b[0m\n\u001b[0m\u001b[1;32m   3813\u001b[0m         \u001b[0;32mexcept\u001b[0m \u001b[0mTypeError\u001b[0m\u001b[0;34m:\u001b[0m\u001b[0;34m\u001b[0m\u001b[0;34m\u001b[0m\u001b[0m\n\u001b[1;32m   3814\u001b[0m             \u001b[0;31m# If we have a listlike key, _check_indexing_error will raise\u001b[0m\u001b[0;34m\u001b[0m\u001b[0;34m\u001b[0m\u001b[0m\n",
            "\u001b[0;31mKeyError\u001b[0m: 'nome_municipio'"
          ]
        }
      ]
    },
    {
      "cell_type": "code",
      "source": [
        "merged = municipios.merge(socio, on='Município', how=\"left\")"
      ],
      "metadata": {
        "colab": {
          "base_uri": "https://localhost:8080/",
          "height": 287
        },
        "id": "M_Uk5iEdAheJ",
        "outputId": "29a6fb88-eca0-4aee-bccc-19e26e07800b"
      },
      "execution_count": 15,
      "outputs": [
        {
          "output_type": "error",
          "ename": "KeyError",
          "evalue": "'Município'",
          "traceback": [
            "\u001b[0;31m---------------------------------------------------------------------------\u001b[0m",
            "\u001b[0;31mKeyError\u001b[0m                                  Traceback (most recent call last)",
            "\u001b[0;32m/tmp/ipython-input-2305877639.py\u001b[0m in \u001b[0;36m<cell line: 0>\u001b[0;34m()\u001b[0m\n\u001b[0;32m----> 1\u001b[0;31m \u001b[0mmerged\u001b[0m \u001b[0;34m=\u001b[0m \u001b[0mmunicipios\u001b[0m\u001b[0;34m.\u001b[0m\u001b[0mmerge\u001b[0m\u001b[0;34m(\u001b[0m\u001b[0msocio\u001b[0m\u001b[0;34m,\u001b[0m \u001b[0mon\u001b[0m\u001b[0;34m=\u001b[0m\u001b[0;34m'Município'\u001b[0m\u001b[0;34m,\u001b[0m \u001b[0mhow\u001b[0m\u001b[0;34m=\u001b[0m\u001b[0;34m\"left\"\u001b[0m\u001b[0;34m)\u001b[0m\u001b[0;34m\u001b[0m\u001b[0;34m\u001b[0m\u001b[0m\n\u001b[0m",
            "\u001b[0;32m/usr/local/lib/python3.12/dist-packages/pandas/core/frame.py\u001b[0m in \u001b[0;36mmerge\u001b[0;34m(self, right, how, on, left_on, right_on, left_index, right_index, sort, suffixes, copy, indicator, validate)\u001b[0m\n\u001b[1;32m  10830\u001b[0m         \u001b[0;32mfrom\u001b[0m \u001b[0mpandas\u001b[0m\u001b[0;34m.\u001b[0m\u001b[0mcore\u001b[0m\u001b[0;34m.\u001b[0m\u001b[0mreshape\u001b[0m\u001b[0;34m.\u001b[0m\u001b[0mmerge\u001b[0m \u001b[0;32mimport\u001b[0m \u001b[0mmerge\u001b[0m\u001b[0;34m\u001b[0m\u001b[0;34m\u001b[0m\u001b[0m\n\u001b[1;32m  10831\u001b[0m \u001b[0;34m\u001b[0m\u001b[0m\n\u001b[0;32m> 10832\u001b[0;31m         return merge(\n\u001b[0m\u001b[1;32m  10833\u001b[0m             \u001b[0mself\u001b[0m\u001b[0;34m,\u001b[0m\u001b[0;34m\u001b[0m\u001b[0;34m\u001b[0m\u001b[0m\n\u001b[1;32m  10834\u001b[0m             \u001b[0mright\u001b[0m\u001b[0;34m,\u001b[0m\u001b[0;34m\u001b[0m\u001b[0;34m\u001b[0m\u001b[0m\n",
            "\u001b[0;32m/usr/local/lib/python3.12/dist-packages/pandas/core/reshape/merge.py\u001b[0m in \u001b[0;36mmerge\u001b[0;34m(left, right, how, on, left_on, right_on, left_index, right_index, sort, suffixes, copy, indicator, validate)\u001b[0m\n\u001b[1;32m    168\u001b[0m         )\n\u001b[1;32m    169\u001b[0m     \u001b[0;32melse\u001b[0m\u001b[0;34m:\u001b[0m\u001b[0;34m\u001b[0m\u001b[0;34m\u001b[0m\u001b[0m\n\u001b[0;32m--> 170\u001b[0;31m         op = _MergeOperation(\n\u001b[0m\u001b[1;32m    171\u001b[0m             \u001b[0mleft_df\u001b[0m\u001b[0;34m,\u001b[0m\u001b[0;34m\u001b[0m\u001b[0;34m\u001b[0m\u001b[0m\n\u001b[1;32m    172\u001b[0m             \u001b[0mright_df\u001b[0m\u001b[0;34m,\u001b[0m\u001b[0;34m\u001b[0m\u001b[0;34m\u001b[0m\u001b[0m\n",
            "\u001b[0;32m/usr/local/lib/python3.12/dist-packages/pandas/core/reshape/merge.py\u001b[0m in \u001b[0;36m__init__\u001b[0;34m(self, left, right, how, on, left_on, right_on, left_index, right_index, sort, suffixes, indicator, validate)\u001b[0m\n\u001b[1;32m    792\u001b[0m             \u001b[0mleft_drop\u001b[0m\u001b[0;34m,\u001b[0m\u001b[0;34m\u001b[0m\u001b[0;34m\u001b[0m\u001b[0m\n\u001b[1;32m    793\u001b[0m             \u001b[0mright_drop\u001b[0m\u001b[0;34m,\u001b[0m\u001b[0;34m\u001b[0m\u001b[0;34m\u001b[0m\u001b[0m\n\u001b[0;32m--> 794\u001b[0;31m         ) = self._get_merge_keys()\n\u001b[0m\u001b[1;32m    795\u001b[0m \u001b[0;34m\u001b[0m\u001b[0m\n\u001b[1;32m    796\u001b[0m         \u001b[0;32mif\u001b[0m \u001b[0mleft_drop\u001b[0m\u001b[0;34m:\u001b[0m\u001b[0;34m\u001b[0m\u001b[0;34m\u001b[0m\u001b[0m\n",
            "\u001b[0;32m/usr/local/lib/python3.12/dist-packages/pandas/core/reshape/merge.py\u001b[0m in \u001b[0;36m_get_merge_keys\u001b[0;34m(self)\u001b[0m\n\u001b[1;32m   1295\u001b[0m                         \u001b[0mrk\u001b[0m \u001b[0;34m=\u001b[0m \u001b[0mcast\u001b[0m\u001b[0;34m(\u001b[0m\u001b[0mHashable\u001b[0m\u001b[0;34m,\u001b[0m \u001b[0mrk\u001b[0m\u001b[0;34m)\u001b[0m\u001b[0;34m\u001b[0m\u001b[0;34m\u001b[0m\u001b[0m\n\u001b[1;32m   1296\u001b[0m                         \u001b[0;32mif\u001b[0m \u001b[0mrk\u001b[0m \u001b[0;32mis\u001b[0m \u001b[0;32mnot\u001b[0m \u001b[0;32mNone\u001b[0m\u001b[0;34m:\u001b[0m\u001b[0;34m\u001b[0m\u001b[0;34m\u001b[0m\u001b[0m\n\u001b[0;32m-> 1297\u001b[0;31m                             \u001b[0mright_keys\u001b[0m\u001b[0;34m.\u001b[0m\u001b[0mappend\u001b[0m\u001b[0;34m(\u001b[0m\u001b[0mright\u001b[0m\u001b[0;34m.\u001b[0m\u001b[0m_get_label_or_level_values\u001b[0m\u001b[0;34m(\u001b[0m\u001b[0mrk\u001b[0m\u001b[0;34m)\u001b[0m\u001b[0;34m)\u001b[0m\u001b[0;34m\u001b[0m\u001b[0;34m\u001b[0m\u001b[0m\n\u001b[0m\u001b[1;32m   1298\u001b[0m                         \u001b[0;32melse\u001b[0m\u001b[0;34m:\u001b[0m\u001b[0;34m\u001b[0m\u001b[0;34m\u001b[0m\u001b[0m\n\u001b[1;32m   1299\u001b[0m                             \u001b[0;31m# work-around for merge_asof(right_index=True)\u001b[0m\u001b[0;34m\u001b[0m\u001b[0;34m\u001b[0m\u001b[0m\n",
            "\u001b[0;32m/usr/local/lib/python3.12/dist-packages/pandas/core/generic.py\u001b[0m in \u001b[0;36m_get_label_or_level_values\u001b[0;34m(self, key, axis)\u001b[0m\n\u001b[1;32m   1909\u001b[0m             \u001b[0mvalues\u001b[0m \u001b[0;34m=\u001b[0m \u001b[0mself\u001b[0m\u001b[0;34m.\u001b[0m\u001b[0maxes\u001b[0m\u001b[0;34m[\u001b[0m\u001b[0maxis\u001b[0m\u001b[0;34m]\u001b[0m\u001b[0;34m.\u001b[0m\u001b[0mget_level_values\u001b[0m\u001b[0;34m(\u001b[0m\u001b[0mkey\u001b[0m\u001b[0;34m)\u001b[0m\u001b[0;34m.\u001b[0m\u001b[0m_values\u001b[0m\u001b[0;34m\u001b[0m\u001b[0;34m\u001b[0m\u001b[0m\n\u001b[1;32m   1910\u001b[0m         \u001b[0;32melse\u001b[0m\u001b[0;34m:\u001b[0m\u001b[0;34m\u001b[0m\u001b[0;34m\u001b[0m\u001b[0m\n\u001b[0;32m-> 1911\u001b[0;31m             \u001b[0;32mraise\u001b[0m \u001b[0mKeyError\u001b[0m\u001b[0;34m(\u001b[0m\u001b[0mkey\u001b[0m\u001b[0;34m)\u001b[0m\u001b[0;34m\u001b[0m\u001b[0;34m\u001b[0m\u001b[0m\n\u001b[0m\u001b[1;32m   1912\u001b[0m \u001b[0;34m\u001b[0m\u001b[0m\n\u001b[1;32m   1913\u001b[0m         \u001b[0;31m# Check for duplicates\u001b[0m\u001b[0;34m\u001b[0m\u001b[0;34m\u001b[0m\u001b[0m\n",
            "\u001b[0;31mKeyError\u001b[0m: 'Município'"
          ]
        }
      ]
    }
  ],
  "metadata": {
    "kernelspec": {
      "display_name": "Python 3",
      "language": "python",
      "name": "python3"
    },
    "language_info": {
      "codemirror_mode": {
        "name": "ipython",
        "version": 3
      },
      "file_extension": ".py",
      "mimetype": "text/x-python",
      "name": "python",
      "nbconvert_exporter": "python",
      "pygments_lexer": "ipython3",
      "version": "3.11.4"
    },
    "colab": {
      "provenance": []
    }
  },
  "nbformat": 4,
  "nbformat_minor": 0
}