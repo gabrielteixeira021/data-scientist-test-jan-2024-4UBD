{
  "cells": [
    {
      "cell_type": "markdown",
      "metadata": {
        "id": "view-in-github",
        "colab_type": "text"
      },
      "source": [
        "<a href=\"https://colab.research.google.com/github/gabrielteixeira021/data-scientist-test-jan-2024-4UBD/blob/main/02_analise.ipynb\" target=\"_parent\"><img src=\"https://colab.research.google.com/assets/colab-badge.svg\" alt=\"Open In Colab\"/></a>"
      ]
    },
    {
      "cell_type": "code",
      "execution_count": null,
      "metadata": {
        "id": "Det6iGDfhbDW"
      },
      "outputs": [],
      "source": [
        "\"\"\"\n",
        "    Instruções:\n",
        "        1- Responda as perguntas listadas no README.md;\n",
        "        2- Faça as análises que julgar necessárias e deixe os resultados de suas análises plotadas no notebook.\n",
        "\"\"\""
      ]
    },
    {
      "cell_type": "code",
      "source": [
        "# Importar bibliotecas\n",
        "import pandas as pd\n",
        "import seaborn as sns\n",
        "import matplotlib.pyplot as plt"
      ],
      "metadata": {
        "id": "A4kbMYGViy3B"
      },
      "execution_count": 1,
      "outputs": []
    },
    {
      "cell_type": "code",
      "source": [
        "# Carregar dados do PIB\n",
        "df = pd.read_csv('dados/populacao-pib-municipios-mg.csv')\n",
        "\n",
        "# Explorar a estrutura de dados\n",
        "print(\"Estrutura dos dados:\")\n",
        "print(\"=\" * 50)\n",
        "print(f\"shape: {df.shape}\")\n",
        "print(f\"Colunas: {df.columns}\")\n",
        "print(\"\\nExibindo primeiras linhas de dados\")\n",
        "print(df.head())\n",
        "print(\"\\nExibindo informações sobre os dados\")\n",
        "print(df.info())"
      ],
      "metadata": {
        "id": "MYeLca-4ifw2",
        "outputId": "bae17af0-605d-4ce7-f992-38f9a00eb206",
        "colab": {
          "base_uri": "https://localhost:8080/"
        }
      },
      "execution_count": 7,
      "outputs": [
        {
          "output_type": "stream",
          "name": "stdout",
          "text": [
            "Estrutura dos dados:\n",
            "==================================================\n",
            "shape: (855, 1)\n",
            "Colunas: Index(['Minas Gerais | Todos os Munic&iacute;pios'], dtype='object')\n",
            "\n",
            "Exibindo primeiras linhas de dados\n",
            "                                                                                                                                                                                                                                                                                                                                                                                                                                                                                                                                                                               Minas Gerais | Todos os Munic&iacute;pios\n",
            "Munic&iacute;pio [-] C&oacute;digo [-] Gent&iacute;lico [-] Prefeito [2025]              &Aacute;rea Territorial - km&sup2; [2024] Popula&ccedil;&atilde;o no &uacute;ltimo censo ... Densidade demogr&aacute;fica - hab/km&sup2; [2022] Popula&ccedil;&atilde;o estimada - pessoas [2025] Escolariza&ccedil;&atilde;o &lt;span&gt;6 a 14 ... IDHM &lt;span&gt;&Iacute;ndice de desenvolvimen... Mortalidade infantil - &oacute;bitos por mil na... Total de receitas brutas realizadas - R$ [2024] Total de despesas brutas empenhadas - R$ [2024] PIB per capita - R$ [2021]                                       NaN\n",
            "Abadia dos Dourados  3100104           abadiense            CIRO LUIZ DA SILVA JUNIOR    880.461                                   6272                                               7.12                                               6345                                              98.28                                              0.689                                              -                                                  54056251.12                                     47058562.8                                      25174.26                                                         NaN\n",
            "Abaet&eacute;        3100203           abaetense            IVANIR DELADIER DA COSTA     1817.067                                  22675                                              12.48                                              23173                                             99.09                                              0.698                                              4.48                                               171110172.9                                     164326914.45                                    23266.1                                                          NaN\n",
            "Abre Campo           3100302           abre-campense        MARCIO PESSOA MOREIRA VICTOR 470.551                                   13927                                              29.60                                              14354                                             96.21                                              0.654                                              12.2                                               79952087.52                                     66949825.34                                     19553.86                                                         NaN\n",
            "Acaiaca              3100401           acaiaquense          LUIZ ALBERTO PEREIRA         101.886                                   3909                                               38.37                                              3998                                              99.3                                               0.630                                              20                                                 34605138.82                                     28148613.95                                     16247.06                                                         NaN\n",
            "\n",
            "Exibindo informações sobre os dados\n",
            "<class 'pandas.core.frame.DataFrame'>\n",
            "MultiIndex: 855 entries, ('Munic&iacute;pio [-]', 'C&oacute;digo [-]', 'Gent&iacute;lico [-]', 'Prefeito [2025]', '&Aacute;rea Territorial - km&sup2; [2024]', 'Popula&ccedil;&atilde;o no &uacute;ltimo censo - pessoas [2022]', 'Densidade demogr&aacute;fica - hab/km&sup2; [2022]', 'Popula&ccedil;&atilde;o estimada - pessoas [2025]', 'Escolariza&ccedil;&atilde;o &lt;span&gt;6 a 14 anos&lt;/span&gt; - % [2022]', 'IDHM &lt;span&gt;&Iacute;ndice de desenvolvimento humano municipal&lt;/span&gt; [2010]', 'Mortalidade infantil - &oacute;bitos por mil nascidos vivos [2023]', 'Total de receitas brutas realizadas - R$ [2024]', 'Total de despesas brutas empenhadas - R$ [2024]', 'PIB per capita - R$ [2021]') to ('<table class=\"fontes-container\"><tr><th>Notas:</th></tr><tr><td>Escolariza&ccedil;&atilde;o <span>6 a 14 anos</span>: [população residente no município de 6 a 14 anos de idade matriculada no ensino regular/total de população residente no município de 6 a 14 anos de idade] x 100</td></tr><tr><th>Fontes:</th></tr><tr><td>Área Territorial: Área territorial brasileira 2022. Rio de Janeiro: IBGE', ' 2023</td></tr><tr><td>Popula&ccedil;&atilde;o no &uacute;ltimo censo: Censo 2022: População e Domicílios - Primeiros Resultados - Atualizado em 22/12/2023</td></tr><tr><td>Densidade demogr&aacute;fica: Censo 2022: População e Domicílios - Primeiros Resultados - Atualizado em 22/12/2023</td></tr><tr><td>Popula&ccedil;&atilde;o estimada: IBGE', ' Diretoria de Pesquisas', ' Coordenação de População e Indicadores Sociais', ' Estimativas da população residente com data de referência 1o de julho de 2024</td></tr><tr><td>Escolariza&ccedil;&atilde;o <span>6 a 14 anos</span>: IBGE', ' Censo Demográfico 2010</td></tr><tr><td>IDHM <span>&Iacute;ndice de desenvolvimento humano municipal</span>: Programa das Nações Unidas para o Desenvolvimento - PNUD</td></tr><tr><td>Mortalidade infantil: Ministério da Saúde', ' Departamento de Informática do Sistema Único de Saúde - DATASUS 2022</td></tr><tr><td>Total de receitas brutas realizadas: Siconfi: Sistema de Informações Contábeis e Fiscais do Setor Público Brasileiro. Brasília', ' DF', ' [2023]. Disponível em: https://siconfi.tesouro.gov.br/siconfi/pages/public/consulta_finbra/finbra_list.jsf. Acesso em: jun. 2024', ' Contas anuais. Receitas orçamentárias realizadas (Anexo I-C) 2023 e Despesas orçamentárias empenhadas (Anexo I-D) 2023. In: Brasil. Secretaria do Tesouro Nacional</td></tr><tr><td>Total de despesas brutas empenhadas: Siconfi: Sistema de Informações Contábeis e Fiscais do Setor Público Brasileiro. Brasília', ' DF', ' [2023]. Disponível em: https://siconfi.tesouro.gov.br/siconfi/pages/public/consulta_finbra/finbra_list.jsf. Acesso em: jun. 2024', ' Contas anuais. Receitas orçamentárias realizadas (Anexo I-C) 2023 e Despesas orçamentárias empenhadas (Anexo I-D) 2023. In: Brasil. Secretaria do Tesouro Nacional</td></tr><tr><td>PIB per capita: IBGE', ' em parceria com os Órgãos Estaduais de Estatística')\n",
            "Data columns (total 1 columns):\n",
            " #   Column                                     Non-Null Count  Dtype \n",
            "---  ------                                     --------------  ----- \n",
            " 0   Minas Gerais | Todos os Munic&iacute;pios  1 non-null      object\n",
            "dtypes: object(1)\n",
            "memory usage: 488.4+ KB\n",
            "None\n"
          ]
        }
      ]
    },
    {
      "cell_type": "code",
      "source": [
        "# Estatísticas descritivas\n",
        "print(\"\\nEstatísticas descritivas\")\n",
        "print(df.describe())"
      ],
      "metadata": {
        "id": "R7Qr-lgVlKGr",
        "outputId": "759dc149-095c-4729-ba49-e021e1117fb0",
        "colab": {
          "base_uri": "https://localhost:8080/"
        }
      },
      "execution_count": 8,
      "outputs": [
        {
          "output_type": "stream",
          "name": "stdout",
          "text": [
            "\n",
            "Estatísticas descritivas\n",
            "                Minas Gerais | Todos os Munic&iacute;pios\n",
            "count                                                   1\n",
            "unique                                                  1\n",
            "top      Secretarias Estaduais de Governo e Superinten...\n",
            "freq                                                    1\n"
          ]
        }
      ]
    }
  ],
  "metadata": {
    "kernelspec": {
      "display_name": "Python 3",
      "language": "python",
      "name": "python3"
    },
    "language_info": {
      "codemirror_mode": {
        "name": "ipython",
        "version": 3
      },
      "file_extension": ".py",
      "mimetype": "text/x-python",
      "name": "python",
      "nbconvert_exporter": "python",
      "pygments_lexer": "ipython3",
      "version": "3.11.4"
    },
    "colab": {
      "provenance": [],
      "include_colab_link": true
    }
  },
  "nbformat": 4,
  "nbformat_minor": 0
}